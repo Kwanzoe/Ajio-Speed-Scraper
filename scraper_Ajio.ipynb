{
 "cells": [
  {
   "cell_type": "code",
   "execution_count": null,
   "id": "37006131",
   "metadata": {},
   "outputs": [],
   "source": [
    "import pandas as pd\n",
    "import sqlite3\n",
    "import time\n",
    "import requests\n",
    "import concurrent.futures\n",
    "\n",
    "import warnings\n",
    "warnings.filterwarnings('ignore')\n",
    "\n"
   ]
  },
  {
   "cell_type": "code",
   "execution_count": null,
   "id": "7cd840cf",
   "metadata": {},
   "outputs": [],
   "source": [
    "base_url = \"https://www.ajio.com/\""
   ]
  },
  {
   "cell_type": "markdown",
   "id": "79cd5a77",
   "metadata": {},
   "source": [
    "URLs for AJAX requests"
   ]
  },
  {
   "cell_type": "code",
   "execution_count": null,
   "id": "444ad52f",
   "metadata": {},
   "outputs": [],
   "source": [
    "# url1 = \"https://www.ajio.com/api/p/462730549_black\"\n",
    "# url2 = \"https://www.ajio.com/api/category/8302?fields=SITE&currentPage=0&pageSize=100&format=json&query=%3Arelevance&sortBy=relevance&curated=true&curatedid=men-clothing&gridColumns=3&facets=&advfilter=true\"\n",
    "# url3 = \"https://www.ajio.com/api/search?fields=SITE&currentPage=0&pageSize=100&format=json&query={category}%3Arelevance&sortBy=relevance&text={category}%20clothing&gridColumns=3&advfilter=true&platform=site\""
   ]
  },
  {
   "cell_type": "markdown",
   "id": "d300ab43",
   "metadata": {},
   "source": [
    "# Categories"
   ]
  },
  {
   "cell_type": "code",
   "execution_count": null,
   "id": "2f52fa0a",
   "metadata": {
    "scrolled": false
   },
   "outputs": [],
   "source": [
    "# Retrieving Names of Categories\n",
    "types_df = pd.read_csv(\"listOfTypes.csv\")\n",
    "categories = types_df['Type'].to_list()\n",
    "categories"
   ]
  },
  {
   "cell_type": "markdown",
   "id": "50895e22",
   "metadata": {},
   "source": [
    "# Category-wise Total Pages"
   ]
  },
  {
   "cell_type": "code",
   "execution_count": null,
   "id": "26d78d2f",
   "metadata": {},
   "outputs": [],
   "source": [
    "page_nums = []\n",
    "for category in categories:\n",
    "    if category == 'men-clothing':\n",
    "        url = \"https://www.ajio.com/api/category/8302?fields=SITE&currentPage=0&pageSize=100&format=json&query=%3Arelevance&sortBy=relevance&curated=true&curatedid=men-clothing&gridColumns=3&facets=&advfilter=true\"\n",
    "    else:\n",
    "        url = f\"https://www.ajio.com/api/search?fields=SITE&currentPage=0&pageSize=100&format=json&query={category}%3Arelevance&sortBy=relevance&text={category}%20clothing&gridColumns=3&advfilter=true&platform=site\"\n",
    "    \n",
    "    response = requests.session().get(url).json()\n",
    "    total = response['pagination']['totalPages']\n",
    "    print(category, total)\n",
    "    page_nums.append(total)"
   ]
  },
  {
   "cell_type": "markdown",
   "id": "2266b4fe",
   "metadata": {},
   "source": [
    "# Extract Product Data"
   ]
  },
  {
   "cell_type": "markdown",
   "id": "85af29f4",
   "metadata": {},
   "source": [
    "Main data extraction method"
   ]
  },
  {
   "cell_type": "code",
   "execution_count": null,
   "id": "efa720d3",
   "metadata": {},
   "outputs": [],
   "source": [
    "def extract(item):\n",
    "    \"\"\"\n",
    "        Columns ->\n",
    "\n",
    "       • Website: String\n",
    "       • Product Link: String\n",
    "       • Product Name: String\n",
    "       • Product Brand: String\n",
    "       • Product Category: String  ->  # In lower cells\n",
    "       • Sizes Available: Array\n",
    "       • Price: Integer\n",
    "       • MRP Integer\n",
    "       • Gender: String\n",
    "       • Description: String\n",
    "       • Primary Image Link: String\n",
    "       • Secondary Image Links: Array\n",
    "   \n",
    "    \"\"\"\n",
    "    \n",
    "    item = requests.session().get(item).json()\n",
    "    \n",
    "    website = base_url\n",
    "    \n",
    "    \n",
    "    #Product Link\n",
    "    try:\n",
    "        product_link = base_url + item['baseOptions'][0]['options'][0]['url'][1:]\n",
    "    except:\n",
    "        product_link = None\n",
    "        \n",
    "    #Product Name\n",
    "    try:\n",
    "        product_name = item['name']\n",
    "    except:\n",
    "        product_name = None\n",
    "    \n",
    "    #Product Brand\n",
    "    try:\n",
    "        product_brand = item['brandName']\n",
    "    except:\n",
    "        product_brand = None\n",
    "    \n",
    "    #Product Category\n",
    "    try:\n",
    "        product_category = item['brickName']\n",
    "    except:\n",
    "        product_category = None\n",
    "    \n",
    "    #Sizes Available\n",
    "    try:\n",
    "        sizes = []\n",
    "        for i in range(len(item['variantOptions'])):\n",
    "            sizes.append(item['variantOptions'][i]['variantOptionQualifiers'][4]['value'])\n",
    "        sizes = \",\".join(sizes)\n",
    "    except:\n",
    "        sizes = None\n",
    "    \n",
    "    #Price\n",
    "    try:\n",
    "        price = item['price']['formattedValue'][4:]\n",
    "    except:\n",
    "        price = None\n",
    "    \n",
    "    #MRP\n",
    "    try:\n",
    "        mrp = item['wasPriceData']['formattedValue'][4:]\n",
    "    except:\n",
    "        mrp = None\n",
    "    \n",
    "    #Gender\n",
    "    try:\n",
    "        gender = item['brickCategory']\n",
    "    except:\n",
    "        gender = None\n",
    "    \n",
    "    #Description\n",
    "    try:\n",
    "        description = item['brickSubCategory']\n",
    "    except:\n",
    "        description = None\n",
    "    \n",
    "    #Primary Image Link\n",
    "    try:\n",
    "        p_img_link = item['baseOptions'][0]['options'][0]['modelImage']['url']\n",
    "    except:\n",
    "        p_img_link = None\n",
    "    \n",
    "    #Secondary Image Links\n",
    "    try:\n",
    "        s_img_links = []\n",
    "        for i in range(len(item['images'])):\n",
    "            if item['images'][i]['format'] == 'product' and item['images'][i]['galleryIndex'] != 0:\n",
    "                s_img_links.append(item['images'][i]['url'])\n",
    "        s_img_links = \",\".join(s_img_links)\n",
    "        if len(s_img_links) == 0:\n",
    "            s_img_links = None\n",
    "    except:\n",
    "        s_img_links = None\n",
    "    \n",
    "    \n",
    "    final_results = [website, product_link, product_name, product_brand, product_category, sizes,\n",
    "                    price, mrp, gender, description, p_img_link, s_img_links]\n",
    "\n",
    "    data.append(final_results)\n",
    "    "
   ]
  },
  {
   "cell_type": "code",
   "execution_count": null,
   "id": "0f783321",
   "metadata": {},
   "outputs": [],
   "source": [
    "def get_page(url):\n",
    "    r = requests.session().get(url).json()\n",
    "    \n",
    "    urls = []\n",
    "    \n",
    "    for item in range(len(r['products'])):\n",
    "        color_id = r['products'][item]['fnlColorVariantData']['colorGroup']\n",
    "        urls.append(base_url + \"api/p/\" + color_id)\n",
    "    return urls"
   ]
  },
  {
   "cell_type": "markdown",
   "id": "1626fff3",
   "metadata": {},
   "source": [
    "# Create Base Dataframe"
   ]
  },
  {
   "cell_type": "markdown",
   "id": "ebdb9e69",
   "metadata": {},
   "source": [
    "Create this csv file if starting from beginning"
   ]
  },
  {
   "cell_type": "code",
   "execution_count": null,
   "id": "b89257e3",
   "metadata": {},
   "outputs": [],
   "source": [
    "# Create a base CSV file for storing\n",
    "columns = [\"Website\", \"Product_Link\", \"Product_Name\", \"Product_Brand\", \"Product_Category\", \"Size_Avail\", \"Price\",\n",
    "          \"MRP\", \"Gender\", \"Description\", \"Primary_Image_Links\", \"Secondary_Image_Links\"]\n",
    "\n",
    "base_df = pd.DataFrame(columns=columns)\n",
    "base_df.to_csv(\"myntra.csv\", index=False)"
   ]
  },
  {
   "cell_type": "markdown",
   "id": "b31bb376",
   "metadata": {},
   "source": [
    "# Driver Function"
   ]
  },
  {
   "cell_type": "code",
   "execution_count": null,
   "id": "c9676cdc",
   "metadata": {
    "scrolled": true
   },
   "outputs": [],
   "source": [
    "\"\"\"\n",
    "Main Function\n",
    "\"\"\"\n",
    "\n",
    "page_lim = 10000\n",
    "\n",
    "counter = 0\n",
    "\n",
    "data = []\n",
    "\n",
    "headers = {'User-Agent' : 'Mozilla/5.0 (Macintosh; Intel Mac OS X 10_14_5) AppleWebKit/537.36 (KHTML, like Gecko) Chrome/84.0.4147.89 Safari/537.36'}\n",
    "s = requests.Session()\n",
    "\n",
    "start = time.time()\n",
    "\n",
    "# for category in range(len(categories)):\n",
    "for category in range(len(categories)):\n",
    "    \n",
    "    \n",
    "    for page_num in range(0, min(page_lim, page_nums[category])):\n",
    "        \n",
    "        if category == 0:\n",
    "            url = f\"https://www.ajio.com/api/category/8302?fields=SITE&currentPage={page_num}&pageSize=100&format=json&query=%3Arelevance&sortBy=relevance&curated=true&curatedid=men-clothing&gridColumns=3&facets=&advfilter=true\"\n",
    "        else:\n",
    "            url = f\"https://www.ajio.com/api/search?fields=SITE&currentPage={page_num}&pageSize=100&format=json&query={categories[category]}%3Arelevance&sortBy=relevance&text={categories[category]}&gridColumns=3&advfilter=true&platform=site\"\n",
    "        \n",
    "        try:\n",
    "            urls = get_page(url)\n",
    "        except:\n",
    "            print(\"Error occured for category: \" + categories[category])\n",
    "            break\n",
    "\n",
    "        # Extracting with Multithreading\n",
    "        with concurrent.futures.ThreadPoolExecutor() as executor:\n",
    "            executor.map(extract, urls)\n",
    "    \n",
    "        counter += (len(urls))\n",
    "        \n",
    "        print(\"Total Amount scraped :- \", counter, sep=\"  \")\n",
    "        print(\"Current Category:- \", categories[category])\n",
    "        print(\"Page No:- \", page_num)\n",
    "        print(\"\\nTime Elapsed:- \", round((time.time() - start)/60, 2), \"mins\\n\")\n",
    "        print()\n",
    "\n",
    "        # Adding to CSV for every page result\n",
    "        temp_df = pd.DataFrame(data, columns=columns)\n",
    "        temp_df.to_csv('myntra.csv', mode='a', header=False, index=False)\n",
    "        \n",
    "        # Re-initializing list for next page\n",
    "        data = []\n",
    "    \n",
    "end = time.time()\n",
    "print(\"\\nTotal Time Elapsed:- \", round((end - start)/60, 2), \"mins\\n\")"
   ]
  },
  {
   "cell_type": "code",
   "execution_count": null,
   "id": "ac9a3f94",
   "metadata": {},
   "outputs": [],
   "source": [
    "df = pd.read_csv(\"myntra.csv\")"
   ]
  },
  {
   "cell_type": "code",
   "execution_count": null,
   "id": "2da77514",
   "metadata": {},
   "outputs": [],
   "source": [
    "df = df.drop_duplicates()\n",
    "df.dropna(inplace = True)\n",
    "df[\"Affiliate_Link\"] = [None]*df.shape[0]"
   ]
  },
  {
   "cell_type": "code",
   "execution_count": null,
   "id": "8815991f",
   "metadata": {},
   "outputs": [],
   "source": [
    "df"
   ]
  },
  {
   "cell_type": "code",
   "execution_count": null,
   "id": "2a5f91f7",
   "metadata": {},
   "outputs": [],
   "source": [
    "conn = sqlite3.connect('AjioProductsData.db')\n",
    "c = conn.cursor()"
   ]
  },
  {
   "cell_type": "code",
   "execution_count": null,
   "id": "8f38ffec",
   "metadata": {},
   "outputs": [],
   "source": [
    "c.execute('CREATE TABLE product_details (Website varchar(40) NOT NULL,Product_Link TEXT PRIMARY KEY,Product_Name varchar(50) NOT NULL,Product_Brand varchar(50) NOT NULL,Product_Category varchar(50),Size_Avail varchar(20) NOT NULL,Price int NOT NULL,MRP int NOT NULL,Gender varchar(15) NOT NULL,Description TEXT NOT NULL,Primary_Image_Links TEXT NOT NULL,Secondary_Image_Links TEXT NOT NULL,Affiliate_Link TEXT NOT NULL)')\n",
    "conn.commit()"
   ]
  },
  {
   "cell_type": "code",
   "execution_count": null,
   "id": "f8f0c053",
   "metadata": {},
   "outputs": [],
   "source": [
    "df.to_sql('product_details', conn, if_exists='replace', index = False)"
   ]
  },
  {
   "cell_type": "code",
   "execution_count": null,
   "id": "96121dec",
   "metadata": {},
   "outputs": [],
   "source": [
    "# Print 20 products\n",
    "c.execute('''  \n",
    "SELECT * FROM product_details\n",
    "          ''')\n",
    "\n",
    "for row in c.fetchmany(size=20):\n",
    "    print (row)"
   ]
  },
  {
   "cell_type": "code",
   "execution_count": null,
   "id": "bf5418aa",
   "metadata": {},
   "outputs": [],
   "source": []
  }
 ],
 "metadata": {
  "kernelspec": {
   "display_name": "Python 3",
   "language": "python",
   "name": "python3"
  },
  "language_info": {
   "codemirror_mode": {
    "name": "ipython",
    "version": 3
   },
   "file_extension": ".py",
   "mimetype": "text/x-python",
   "name": "python",
   "nbconvert_exporter": "python",
   "pygments_lexer": "ipython3",
   "version": "3.8.8"
  }
 },
 "nbformat": 4,
 "nbformat_minor": 5
}
